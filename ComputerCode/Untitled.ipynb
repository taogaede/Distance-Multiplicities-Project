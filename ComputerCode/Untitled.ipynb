{
 "cells": [
  {
   "cell_type": "code",
   "execution_count": 2,
   "metadata": {},
   "outputs": [
    {
     "name": "stdout",
     "output_type": "stream",
     "text": [
      "0 1\n",
      "1 15\n",
      "2 105\n",
      "3 455\n",
      "4 1365\n",
      "5 3003\n",
      "6 5005\n",
      "7 6435\n",
      "8 6435\n",
      "9 5005\n",
      "10 3003\n",
      "11 1365\n",
      "12 455\n",
      "13 105\n",
      "14 15\n",
      "15 1\n"
     ]
    }
   ],
   "source": [
    "for k in range(0,16):\n",
    "    print(k, binomial(15,k))"
   ]
  },
  {
   "cell_type": "code",
   "execution_count": null,
   "metadata": {},
   "outputs": [],
   "source": []
  }
 ],
 "metadata": {
  "kernelspec": {
   "display_name": "SageMath 9.3",
   "language": "sage",
   "name": "sagemath"
  },
  "language_info": {
   "codemirror_mode": {
    "name": "ipython",
    "version": 3
   },
   "file_extension": ".py",
   "mimetype": "text/x-python",
   "name": "python",
   "nbconvert_exporter": "python",
   "pygments_lexer": "ipython3",
   "version": "3.7.10"
  }
 },
 "nbformat": 4,
 "nbformat_minor": 4
}
