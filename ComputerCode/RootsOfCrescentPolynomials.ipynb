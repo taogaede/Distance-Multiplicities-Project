{
 "cells": [
  {
   "cell_type": "code",
   "execution_count": null,
   "metadata": {
    "scrolled": false
   },
   "outputs": [],
   "source": [
    "#f=x*(x-6)*(x- (3 + 3*sqrt(3)*I) ) * (x- (3 + sqrt(3)*I) ) * (x - (-2*sqrt(6) + 2*sqrt(3)*I) ) #n=5 CC Example\n",
    "f = x*(x-1) * (x - (-1) ) * (x- (sqrt(3)*I) )\n",
    "#R =f.roots()\n",
    "P=complex_plot(f,(-4,4),(-4,4))\n",
    "P.show(aspect_ratio = 1)\n",
    "simplify(expand(f))"
   ]
  },
  {
   "cell_type": "code",
   "execution_count": null,
   "metadata": {
    "scrolled": true
   },
   "outputs": [],
   "source": [
    "for i in range(3,3):\n",
    "    f = sum([- x^(i-j) for j in range(1,i)])\n",
    "    P = complex_plot(f,(-2,2),(-2,2))\n",
    "    P.show(aspect_ratio = 1)"
   ]
  },
  {
   "cell_type": "code",
   "execution_count": null,
   "metadata": {},
   "outputs": [],
   "source": []
  }
 ],
 "metadata": {
  "kernelspec": {
   "display_name": "SageMath 9.3",
   "language": "sage",
   "name": "sagemath"
  },
  "language_info": {
   "codemirror_mode": {
    "name": "ipython",
    "version": 3
   },
   "file_extension": ".py",
   "mimetype": "text/x-python",
   "name": "python",
   "nbconvert_exporter": "python",
   "pygments_lexer": "ipython3",
   "version": "3.7.10"
  }
 },
 "nbformat": 4,
 "nbformat_minor": 4
}
