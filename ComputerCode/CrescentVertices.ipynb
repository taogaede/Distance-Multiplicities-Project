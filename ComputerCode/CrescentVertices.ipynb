{
 "cells": [
  {
   "cell_type": "code",
   "execution_count": 25,
   "metadata": {
    "scrolled": false
   },
   "outputs": [],
   "source": [
    "def getMults(L):\n",
    "    Mults = [0]*(max(L)+1)\n",
    "    for j in range(0,len(L)):\n",
    "        if L[j] != 0:\n",
    "            Mults[L[j]] = Mults[L[j]]+1\n",
    "    return Mults\n",
    "\n",
    "def isCrescent(M):\n",
    "    for i in range(1,len(M)):\n",
    "        if i not in M:\n",
    "            return False\n",
    "    return True\n",
    "\n",
    "n = 22\n",
    "\n",
    "for T in graphs.trees(n):\n",
    "    D = T.distance_matrix()\n",
    "    CrescentVertices = []\n",
    "    for i in range(0, n):\n",
    "        mults = getMults(D[i])\n",
    "        if isCrescent(mults) == True:\n",
    "            CrescentVertices.append(i)\n",
    "            #show(\"Mult List for [\", i,\"]:\", mults)\n",
    "    if len(CrescentVertices) >= n-9:\n",
    "        show(T)\n",
    "        show(\"Crescent Vertices: \", CrescentVertices)\n",
    "        show(\"- - - - - - - - - -\")"
   ]
  },
  {
   "cell_type": "markdown",
   "metadata": {},
   "source": [
    "##### def getMults(L):\n",
    "    Mults = [0]*(max(L)+1)\n",
    "    for j in range(0,len(L)):\n",
    "        if L[j] != 0:\n",
    "            Mults[L[j]] = Mults[L[j]]+1\n",
    "    return Mults\n",
    "\n",
    "def isCrescent(M):\n",
    "    for i in range(1,len(M)):\n",
    "        if i not in M:\n",
    "            return False\n",
    "    return True\n",
    "\n",
    "n = 11\n",
    "\n",
    "L = list(graphs(n))\n",
    "M=[]\n",
    "for i in range(0,len(L)):\n",
    "    if L[i].is_connected():\n",
    "    #if not L[i].is_long_hole_free() and L[i].is_connected():\n",
    "        M += [L[i]]\n",
    "\n",
    "for T in M:\n",
    "    D = T.distance_matrix()\n",
    "    CrescentVertices = []\n",
    "    for i in range(0, n):\n",
    "        mults = getMults(D[i])\n",
    "        if isCrescent(mults) == True:\n",
    "            CrescentVertices.append(i)\n",
    "            #show(\"Mult List for [\", i,\"]:\", mults)\n",
    "    if len(CrescentVertices) >= n-1:\n",
    "        show(T)\n",
    "        show(\"Crescent Vertices: \", CrescentVertices)\n",
    "        show(\"- - - - - - - - - -\")\n",
    "\n"
   ]
  },
  {
   "cell_type": "code",
   "execution_count": null,
   "metadata": {},
   "outputs": [],
   "source": []
  }
 ],
 "metadata": {
  "kernelspec": {
   "display_name": "SageMath 9.3",
   "language": "sage",
   "name": "sagemath"
  },
  "language_info": {
   "codemirror_mode": {
    "name": "ipython",
    "version": 3
   },
   "file_extension": ".py",
   "mimetype": "text/x-python",
   "name": "python",
   "nbconvert_exporter": "python",
   "pygments_lexer": "ipython3",
   "version": "3.7.10"
  }
 },
 "nbformat": 4,
 "nbformat_minor": 4
}
