{
 "cells": [
  {
   "cell_type": "code",
   "execution_count": 42,
   "metadata": {
    "scrolled": false
   },
   "outputs": [
    {
     "ename": "KeyError",
     "evalue": "2",
     "output_type": "error",
     "traceback": [
      "\u001b[0;31m---------------------------------------------------------------------------\u001b[0m",
      "\u001b[0;31mKeyError\u001b[0m                                  Traceback (most recent call last)",
      "\u001b[0;32m<ipython-input-42-ee3fee248d11>\u001b[0m in \u001b[0;36m<module>\u001b[0;34m\u001b[0m\n\u001b[1;32m     26\u001b[0m         \u001b[0mmaxMult\u001b[0m \u001b[0;34m=\u001b[0m \u001b[0mmax\u001b[0m\u001b[0;34m(\u001b[0m\u001b[0mMult\u001b[0m\u001b[0;34m)\u001b[0m\u001b[0;34m*\u001b[0m\u001b[0mn\u001b[0m\u001b[0;34m*\u001b[0m\u001b[0;34m(\u001b[0m\u001b[0mn\u001b[0m\u001b[0;34m-\u001b[0m\u001b[0mInteger\u001b[0m\u001b[0;34m(\u001b[0m\u001b[0;36m1\u001b[0m\u001b[0;34m)\u001b[0m\u001b[0;34m)\u001b[0m\u001b[0;34m/\u001b[0m\u001b[0mInteger\u001b[0m\u001b[0;34m(\u001b[0m\u001b[0;36m2\u001b[0m\u001b[0;34m)\u001b[0m\u001b[0;34m\u001b[0m\u001b[0;34m\u001b[0m\u001b[0m\n\u001b[1;32m     27\u001b[0m         \u001b[0moneMult\u001b[0m \u001b[0;34m=\u001b[0m \u001b[0mDist\u001b[0m\u001b[0;34m[\u001b[0m\u001b[0mInteger\u001b[0m\u001b[0;34m(\u001b[0m\u001b[0;36m1\u001b[0m\u001b[0;34m)\u001b[0m\u001b[0;34m]\u001b[0m\u001b[0;34m*\u001b[0m\u001b[0mn\u001b[0m\u001b[0;34m*\u001b[0m\u001b[0;34m(\u001b[0m\u001b[0mn\u001b[0m\u001b[0;34m-\u001b[0m\u001b[0mInteger\u001b[0m\u001b[0;34m(\u001b[0m\u001b[0;36m1\u001b[0m\u001b[0;34m)\u001b[0m\u001b[0;34m)\u001b[0m\u001b[0;34m/\u001b[0m\u001b[0mInteger\u001b[0m\u001b[0;34m(\u001b[0m\u001b[0;36m2\u001b[0m\u001b[0;34m)\u001b[0m\u001b[0;34m\u001b[0m\u001b[0;34m\u001b[0m\u001b[0m\n\u001b[0;32m---> 28\u001b[0;31m         \u001b[0mtwoMult\u001b[0m \u001b[0;34m=\u001b[0m \u001b[0mDist\u001b[0m\u001b[0;34m[\u001b[0m\u001b[0mInteger\u001b[0m\u001b[0;34m(\u001b[0m\u001b[0;36m2\u001b[0m\u001b[0;34m)\u001b[0m\u001b[0;34m]\u001b[0m\u001b[0;34m*\u001b[0m\u001b[0mn\u001b[0m\u001b[0;34m*\u001b[0m\u001b[0;34m(\u001b[0m\u001b[0mn\u001b[0m\u001b[0;34m-\u001b[0m\u001b[0mInteger\u001b[0m\u001b[0;34m(\u001b[0m\u001b[0;36m1\u001b[0m\u001b[0;34m)\u001b[0m\u001b[0;34m)\u001b[0m\u001b[0;34m/\u001b[0m\u001b[0mInteger\u001b[0m\u001b[0;34m(\u001b[0m\u001b[0;36m2\u001b[0m\u001b[0;34m)\u001b[0m\u001b[0;34m\u001b[0m\u001b[0;34m\u001b[0m\u001b[0m\n\u001b[0m\u001b[1;32m     29\u001b[0m         \u001b[0;31m#threeMult = Dist[3]*n*(n-1)/2\u001b[0m\u001b[0;34m\u001b[0m\u001b[0;34m\u001b[0m\u001b[0;34m\u001b[0m\u001b[0m\n\u001b[1;32m     30\u001b[0m         \u001b[0;32mif\u001b[0m \u001b[0mtwoMult\u001b[0m \u001b[0;34m<=\u001b[0m \u001b[0mmaxMult\u001b[0m \u001b[0;32mand\u001b[0m \u001b[0mmaxMult\u001b[0m \u001b[0;34m>=\u001b[0m \u001b[0mInteger\u001b[0m\u001b[0;34m(\u001b[0m\u001b[0;36m3\u001b[0m\u001b[0;34m)\u001b[0m\u001b[0;34m:\u001b[0m\u001b[0;34m\u001b[0m\u001b[0;34m\u001b[0m\u001b[0m\n",
      "\u001b[0;31mKeyError\u001b[0m: 2"
     ]
    }
   ],
   "source": [
    "from sage.plot.scatter_plot import ScatterPlot\n",
    "n=17\n",
    "trees = graphs.trees(n)\n",
    "maxMultList = []\n",
    "maxAdjEValList = []\n",
    "maxLapEValList = []\n",
    "maxDistEValList = []\n",
    "maxDegreeList = []\n",
    "aveDistanceList = []\n",
    "aveDistanceDistanceList = []\n",
    "maxMultDistancesList = []\n",
    "numDistinctDistMatrixEValsList = []\n",
    "\n",
    "def distinctValues(L):\n",
    "    distinctVals = []\n",
    "    for i in range(0,len(L)):\n",
    "        if L[i] in distinctVals == False:\n",
    "            distinctVals.append(L[i])\n",
    "    return len(distinctVals)\n",
    "\n",
    "for T in trees:\n",
    "    if T.diameter() == 4:\n",
    "        Dist = T.distances_distribution()\n",
    "        Mult = list(Dist.values())\n",
    "        maxMult = max(Mult)*n*(n-1)/2\n",
    "        oneMult = Dist[1]*n*(n-1)/2\n",
    "        twoMult = Dist[2]*n*(n-1)/2\n",
    "        #threeMult = Dist[3]*n*(n-1)/2\n",
    "        if twoMult <= maxMult and maxMult >= 3:\n",
    "            largestDistMaxMult = 0\n",
    "            for d in range(1,len(Dist)+1):\n",
    "                if Mult[d-1]*n*(n-1)/2 == maxMult:\n",
    "                    largestDistMaxMult = d\n",
    "            maxMultDistancesList.append([maxMult,largestDistMaxMult])        \n",
    "            AdjSpectrum = T.spectrum()\n",
    "            LaplacianSpectrum = T.laplacian_matrix().eigenvalues()\n",
    "            DistSpectrum = T.distance_matrix().eigenvalues()\n",
    "            Degrees = T.degree_sequence()\n",
    "\n",
    "            maxEValAdj = max(AdjSpectrum)\n",
    "            maxEValLap = max(LaplacianSpectrum)\n",
    "            maxEValDist = max(DistSpectrum)\n",
    "            maxDegree = max(Degrees)\n",
    "            aveDistance = T.average_distance()\n",
    "\n",
    "            maxMultList.append(maxMult)\n",
    "\n",
    "            maxDegreeList.append([maxMult,maxDegree])\n",
    "            maxAdjEValList.append([maxMult,maxEValAdj])\n",
    "            maxLapEValList.append([maxMult,maxEValLap])\n",
    "            maxDistEValList.append([maxMult,maxEValDist])\n",
    "            aveDistanceList.append([maxMult,aveDistance])\n",
    "            aveDistanceDistanceList.append([aveDistance,maxEValDist])\n",
    "            print(Mult)\n",
    "            print(maxMult,largestDistMaxMult)\n",
    "            D = T.distance_matrix().eigenspaces_right()\n",
    "            dimOfNeg2EVal = D[0][1].dimension()\n",
    "            numDistinctDistanceMatrixEVals = len(D)\n",
    "            numDistinctDistMatrixEValsList.append([maxMult,numDistinctDistanceMatrixEVals])\n",
    "\n",
    "            print(numDistinctDistanceMatrixEVals)\n",
    "            show(DistSpectrum)\n",
    "            show(T.automorphism_group(orbits = True))\n",
    "            show(T)\n",
    "\n",
    "        \n",
    "print(\"Max Adj Matrix EVal over Max Mult\")\n",
    "AdjPlot = scatter_plot(maxAdjEValList)\n",
    "show(AdjPlot)\n",
    "print(\"Max Lap Matrix EVal over Max Mult\")\n",
    "LapPlot = scatter_plot(maxLapEValList)\n",
    "show(LapPlot)\n",
    "print(\"Max Distance Matrix EVal over Max Mult\")\n",
    "DistPlot = scatter_plot(maxDistEValList)\n",
    "show(DistPlot)\n",
    "print(\"Max Degree over Max Mult\")\n",
    "DegreePlot = scatter_plot(maxDegreeList)\n",
    "show(DegreePlot)\n",
    "print(\"Average Distance over Max Mult\")\n",
    "aveDistancePlot = scatter_plot(aveDistanceList)\n",
    "show(aveDistancePlot)\n",
    "print(\"Average Distance over Max Distance Matrix EVal\")\n",
    "aveDistanceDistancePlot = scatter_plot(aveDistanceDistanceList)\n",
    "show(aveDistanceDistancePlot)\n",
    "print(\"Largest Distance with Max Mult over Max Mult\")\n",
    "SmallestMostFreqDistPlot = scatter_plot(maxMultDistancesList)\n",
    "show(SmallestMostFreqDistPlot)\n",
    "print(\"Number of Distinct EVals of Distance Matrix over Max Mult\")\n",
    "DistEValsPlot = scatter_plot(numDistinctDistMatrixEValsList)\n",
    "show(DistEValsPlot)"
   ]
  },
  {
   "cell_type": "markdown",
   "metadata": {},
   "source": []
  },
  {
   "cell_type": "code",
   "execution_count": null,
   "metadata": {},
   "outputs": [],
   "source": []
  }
 ],
 "metadata": {
  "kernelspec": {
   "display_name": "SageMath 9.3",
   "language": "sage",
   "name": "sagemath"
  },
  "language_info": {
   "codemirror_mode": {
    "name": "ipython",
    "version": 3
   },
   "file_extension": ".py",
   "mimetype": "text/x-python",
   "name": "python",
   "nbconvert_exporter": "python",
   "pygments_lexer": "ipython3",
   "version": "3.7.10"
  }
 },
 "nbformat": 4,
 "nbformat_minor": 4
}
