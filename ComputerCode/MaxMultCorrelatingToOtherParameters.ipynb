{
 "cells": [
  {
   "cell_type": "code",
   "execution_count": null,
   "metadata": {
    "scrolled": false
   },
   "outputs": [],
   "source": [
    "from sage.plot.scatter_plot import ScatterPlot\n",
    "n=18\n",
    "trees = graphs.trees(n)\n",
    "maxMultList = []\n",
    "maxAdjEValList = []\n",
    "maxLapEValList = []\n",
    "maxDistEValList = []\n",
    "maxDegreeList = []\n",
    "aveDistanceList = []\n",
    "aveDistanceDistanceList = []\n",
    "maxMultDistancesList = []\n",
    "for T in trees:\n",
    "    Dist = T.distances_distribution()\n",
    "    Mult = list(Dist.values())\n",
    "    maxMult = max(Mult)*n*(n-1)/2\n",
    "    oneMult = Dist[1]*n*(n-1)/2\n",
    "    twoMult = Dist[2]*n*(n-1)/2\n",
    "    #threeMult = Dist[3]*n*(n-1)/2\n",
    "    if twoMult <= maxMult and maxMult >= 3:\n",
    "        largestDistMaxMult = 0\n",
    "        for d in range(1,len(Dist)+1):\n",
    "            if Mult[d-1]*n*(n-1)/2 == maxMult:\n",
    "                largestDistMaxMult = d\n",
    "        maxMultDistancesList.append([maxMult,largestDistMaxMult])\n",
    "        if largestDistMaxMult == ceil(n/3)-2:        \n",
    "            AdjSpectrum = T.spectrum()\n",
    "            LaplacianSpectrum = T.laplacian_matrix().eigenvalues()\n",
    "            DistSpectrum = T.distance_matrix().eigenvalues()\n",
    "            Degrees = T.degree_sequence()\n",
    "\n",
    "            maxEValAdj = max(AdjSpectrum)\n",
    "            maxEValLap = max(LaplacianSpectrum)\n",
    "            maxEValDist = max(DistSpectrum)\n",
    "            maxDegree = max(Degrees)\n",
    "            aveDistance = T.average_distance()\n",
    "\n",
    "            maxMultList.append(maxMult)\n",
    "\n",
    "            maxDegreeList.append([maxMult,maxDegree])\n",
    "            maxAdjEValList.append([maxMult,maxEValAdj])\n",
    "            maxLapEValList.append([maxMult,maxEValLap])\n",
    "            maxDistEValList.append([maxMult,maxEValDist])\n",
    "            aveDistanceList.append([maxMult,aveDistance])\n",
    "            aveDistanceDistanceList.append([aveDistance,maxEValDist])\n",
    "            print(Mult)\n",
    "            print(maxMult,largestDistMaxMult)\n",
    "            show(T)\n",
    "        \n",
    "print(\"Max Adj Matrix EVal over Max Mult\")\n",
    "AdjPlot = scatter_plot(maxAdjEValList)\n",
    "show(AdjPlot)\n",
    "print(\"Max Lap Matrix EVal over Max Mult\")\n",
    "LapPlot = scatter_plot(maxLapEValList)\n",
    "show(LapPlot)\n",
    "print(\"Max Distance Matrix EVal over Max Mult\")\n",
    "DistPlot = scatter_plot(maxDistEValList)\n",
    "show(DistPlot)\n",
    "print(\"Max Degree over Max Mult\")\n",
    "DegreePlot = scatter_plot(maxDegreeList)\n",
    "show(DegreePlot)\n",
    "print(\"Average Distance over Max Mult\")\n",
    "aveDistancePlot = scatter_plot(aveDistanceList)\n",
    "show(aveDistancePlot)\n",
    "print(\"Average Distance over Max Distance Matrix EVal\")\n",
    "aveDistanceDistancePlot = scatter_plot(aveDistanceDistanceList)\n",
    "show(aveDistanceDistancePlot)\n",
    "print(\"Smallest Distance with Max Mult over Max Mult\")\n",
    "SmallestMostFreqDistPlot = scatter_plot(maxMultDistancesList)\n",
    "show(SmallestMostFreqDistPlot)"
   ]
  },
  {
   "cell_type": "markdown",
   "metadata": {},
   "source": []
  },
  {
   "cell_type": "code",
   "execution_count": null,
   "metadata": {},
   "outputs": [],
   "source": []
  }
 ],
 "metadata": {
  "kernelspec": {
   "display_name": "SageMath 9.3",
   "language": "sage",
   "name": "sagemath"
  },
  "language_info": {
   "codemirror_mode": {
    "name": "ipython",
    "version": 3
   },
   "file_extension": ".py",
   "mimetype": "text/x-python",
   "name": "python",
   "nbconvert_exporter": "python",
   "pygments_lexer": "ipython3",
   "version": "3.7.10"
  }
 },
 "nbformat": 4,
 "nbformat_minor": 4
}
