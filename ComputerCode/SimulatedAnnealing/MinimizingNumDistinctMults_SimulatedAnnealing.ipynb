{
 "cells": [
  {
   "cell_type": "code",
   "execution_count": null,
   "metadata": {},
   "outputs": [],
   "source": [
    "kMax = 100\n",
    "\n",
    "def coolingFunction(t):\n",
    "    f = 1-(k+1)/kMax\n",
    "    return f\n",
    "\n",
    "s = 10\n",
    "\n",
    "for k in range(0,kMax):\n",
    "    T = coolingFunction(k)\n",
    "    \n",
    "    \n",
    "\n",
    "#Large tree T_0 as input.\n",
    "#Set T=T_0.\n",
    "#State space is defined by appending and removing leaves to T.\n",
    "#  A: There are n vertices to append leaves\n",
    "#  B: There are n_1 leaves\n",
    "#For A, just itterate over the vertices T.\n",
    "#For B, itterate over the leaves of T\n",
    "#So the state space is S = (Adding a leaf to A) + (Removing a leaf in B)\n",
    "#\n",
    "#Energy Function E(s).  We want the energy function to measure multiplicity uniformity.\n",
    "#Idea is for E(s) to be the variance of the multiplicities.\n",
    "#We want to minimize the variance of the multiplicities.\n",
    "#Concern: Are we assuming that trees with few distinct multiplicities have multiplicity values close to the average?\n",
    "#  We could have a solution with few distinct multiplicities, say two called m1 and m2, where m1 = O(n) and m2 = O(n^2).\n",
    "#  Suppose diam/2 are m1 and diam/2 are m2, then aveMult = (C_1 * n * (d/2) + C_2 * n^2 * (d/2))/d = (C_1*n + C_2*n^2)/2.\n",
    "#  I guess the point here is that average multiplicity is O(n^2) while half of the multiplicities are much smaller at O(n).\n",
    "#  This type of solution might not show up since the variance would be quite high here I think despite there being 2 mults.\n",
    "#So, I think variance might not be ideal.\n",
    "\n",
    "#Would the sum of all d(d-1)/2 pairwise differences between multiplicities be good?\n",
    "\n",
    "#For the Acceptance Probability P(), the function is of E(s), E(s_new), and Temp.\n",
    "#  If P(E(s), E(s_new), Temp) is greater than random(0,1), then we accept s_new if  E(s_new) > E(s) (i.e. if s_new is \"bad\").\n"
   ]
  }
 ],
 "metadata": {
  "kernelspec": {
   "display_name": "Python 3",
   "language": "python",
   "name": "python3"
  },
  "language_info": {
   "codemirror_mode": {
    "name": "ipython",
    "version": 3
   },
   "file_extension": ".py",
   "mimetype": "text/x-python",
   "name": "python",
   "nbconvert_exporter": "python",
   "pygments_lexer": "ipython3",
   "version": "3.8.10"
  }
 },
 "nbformat": 4,
 "nbformat_minor": 4
}
