{
 "cells": [
  {
   "cell_type": "code",
   "execution_count": null,
   "metadata": {
    "scrolled": true
   },
   "outputs": [],
   "source": [
    "def expMat(A):\n",
    "    return sum((A^k)/(factorial(k)) for k in range(0,29))\n",
    "\n",
    "def expMatEvens(A):\n",
    "    return sum((A^k)/(factorial(k)) for k in range(2,100,2))\n",
    "\n",
    "def expMatOdds(A):\n",
    "    return sum((A^k)/(factorial(k)) for k in range(1,101,2))\n",
    "    \n",
    "def checkCorrelatedOrdering(A,B):\n",
    "    inverselyCorrelated = True\n",
    "    badEntries = []\n",
    "    for i in range(0,A.nrows()):\n",
    "        for j in range(0, A.ncols()-1):\n",
    "            if A[i][j] < A[i][j+1] and B[i][j] < B[i][j+1]:\n",
    "                inverselyCorrelated = False\n",
    "                badEntries.append([i,j])\n",
    "            if A[i][j] > A[i][j+1] and B[i][j] > B[i][j+1]:\n",
    "                inverselyCorrelated = False\n",
    "                badEntries.append([i,j])\n",
    "    return [inverselyCorrelated,badEntries]\n",
    "\n",
    "def checkParityEntries(A,Evens, Odds):\n",
    "    parityPreserved = True\n",
    "    badEntries = []\n",
    "    for i in range(0,A.nrows()):\n",
    "        for j in range(i+1,A.ncols()-1):\n",
    "            if A[i][j] % 2 == 0 and Evens[i][j] < Odds[i][j]:\n",
    "                parityPreserved = False\n",
    "                badEntries.append([i,j])\n",
    "            if A[i][j] % 2 == 1 and Odds[i][j] < Evens[i][j]:\n",
    "                parityPreserved = False\n",
    "                badEntries.append([i,j])\n",
    "    return [parityPreserved, badEntries]\n",
    "    \n"
   ]
  },
  {
   "cell_type": "code",
   "execution_count": null,
   "metadata": {},
   "outputs": [],
   "source": [
    "n = 6\n",
    "for T in graphs.trees(n):\n",
    "    A = T.adjacency_matrix()\n",
    "    D = T.distance_matrix()\n",
    "    #print(A)\n",
    "    E = expMat(A).n(digits=5)\n",
    "    EEvens = expMatEvens(A).n(digits=5)\n",
    "    EOdds = expMatOdds(A).n(digits=5)\n",
    "    #print(E)\n",
    "    #print(T.distance_matrix())\n",
    "    #H = Graph(E, weighted = True, format='weighted_adjacency_matrix')\n",
    "    #show(H)\n",
    "    parityInformation = checkParityEntries(D,EEvens,EOdds)\n",
    "    correlationData = checkCorrelatedOrdering(D,E)\n",
    "    #show(T)\n",
    "    #if parityInformation[0] == True:\n",
    "    #    show(T)\n",
    "    #    print(D)\n",
    "    #    print(EEvens)\n",
    "    #    print(EOdds)\n",
    "    if correlationData[0] == False:\n",
    "        show(T)\n",
    "        print(D)\n",
    "        print(E)\n",
    "        print(correlationData[1])\n",
    "        print(\"\")"
   ]
  },
  {
   "cell_type": "code",
   "execution_count": null,
   "metadata": {
    "scrolled": false
   },
   "outputs": [],
   "source": [
    "n = 6\n",
    "for T in graphs(n):\n",
    "    if T.is_connected():\n",
    "        A = T.adjacency_matrix()\n",
    "        D = T.distance_matrix()\n",
    "        #print(A)\n",
    "        E = expMat(A).n(digits=5)\n",
    "        EEvens = expMatEvens(A).n(digits=5)\n",
    "        EOdds = expMatOdds(A).n(digits=5)\n",
    "        #print(E)\n",
    "        #print(T.distance_matrix())\n",
    "        #H = Graph(E, weighted = True, format='weighted_adjacency_matrix')\n",
    "        #show(H)\n",
    "        parityInformation = checkParityEntries(D,EEvens,EOdds)\n",
    "        correlationData = checkCorrelatedOrdering(D,E)\n",
    "        #show(T)\n",
    "        if parityInformation[0] == False:\n",
    "            show(T)\n",
    "            print(D)\n",
    "            print(EEvens)\n",
    "            print(EOdds)\n",
    "            print(parityInformation[1])\n",
    "        #if correlationData[0] == False:\n",
    "            #show(T)\n",
    "            #print(D)\n",
    "            #print(E)\n",
    "            #print(correlationData[1])\n",
    "            #print(\"\")"
   ]
  },
  {
   "cell_type": "code",
   "execution_count": null,
   "metadata": {
    "scrolled": true
   },
   "outputs": [],
   "source": [
    "\n",
    "n=11\n",
    "for T in graphs.trees(n):\n",
    "    D = T.distance_matrix()\n",
    "    Q = D.inverse()\n",
    "    show(T)\n",
    "    print(D)\n",
    "    print(Q)\n",
    "    H = Graph(Q, weighted = True, format='weighted_adjacency_matrix')\n",
    "    show(H)"
   ]
  },
  {
   "cell_type": "code",
   "execution_count": null,
   "metadata": {
    "scrolled": true
   },
   "outputs": [],
   "source": [
    "G = Graph([(1,4),(1,5), (1,6), (1,7), (2,4), (2,5), (2,6), (2,7), (3,4), (3,5), (3,6), (3,7), (4,6), (5,7)])\n",
    "show(G)\n",
    "D = G.distance_matrix()\n",
    "show(D)\n",
    "latex(G)\n",
    "latex(D)"
   ]
  },
  {
   "cell_type": "code",
   "execution_count": null,
   "metadata": {
    "scrolled": true
   },
   "outputs": [],
   "source": [
    "G = Graph([(1,2),(2,3), (2,5), (4,5), (5,6), (5,7), (7,8)])\n",
    "show(G)\n",
    "D = G.distance_matrix()\n",
    "show(D)\n",
    "#latex(D)\n",
    "#latex(G)\n",
    "latex(D)"
   ]
  },
  {
   "cell_type": "code",
   "execution_count": null,
   "metadata": {
    "scrolled": true
   },
   "outputs": [],
   "source": [
    "#Player 1 Distance Graph\n",
    "G = Graph({2: {3: 'x', 4: 'x', 5: 'x'}, 3: {4: 'x', 5: 'x'}, 4: {5: 'x'}}, weighted= True)\n",
    "G.show(edge_labels = True)\n",
    "D = G.distance_matrix()\n",
    "show(D)\n",
    "latex(G)"
   ]
  },
  {
   "cell_type": "code",
   "execution_count": null,
   "metadata": {},
   "outputs": [],
   "source": []
  }
 ],
 "metadata": {
  "kernelspec": {
   "display_name": "SageMath 9.3",
   "language": "sage",
   "name": "sagemath"
  },
  "language_info": {
   "codemirror_mode": {
    "name": "ipython",
    "version": 3
   },
   "file_extension": ".py",
   "mimetype": "text/x-python",
   "name": "python",
   "nbconvert_exporter": "python",
   "pygments_lexer": "ipython3",
   "version": "3.7.10"
  }
 },
 "nbformat": 4,
 "nbformat_minor": 4
}
