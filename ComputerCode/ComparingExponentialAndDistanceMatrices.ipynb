{
 "cells": [
  {
   "cell_type": "code",
   "execution_count": 2,
   "metadata": {},
   "outputs": [],
   "source": [
    "#The functions\n",
    "\n",
    "def expMat(A):\n",
    "    return sum((A^k)/(factorial(k)) for k in range(0,100))\n",
    "\n",
    "def expMatEvens(A):\n",
    "    return sum((A^k)/(factorial(k)) for k in range(2,100,2))\n",
    "\n",
    "def expMatOdds(A):\n",
    "    return sum((A^k)/(factorial(k)) for k in range(1,101,2))\n",
    "\n",
    "def checkDistanceOrdering(A,B):\n",
    "    inverselyOrdered = True\n",
    "    badEntries = []\n",
    "    for i in range(0,A.nrows()):\n",
    "        for j in range(i+1, A.ncols()):\n",
    "            for f in range(i, B.nrows()):\n",
    "                for g in range(f+1,B.ncols()):\n",
    "                    if A[i][j] < A[f][g] and B[i][j] < B[f][g]:\n",
    "                        inverselyOrdered = False\n",
    "                        badEntries.append([[i,j],[f,g]])\n",
    "                    if A[i][j] > A[f][g] and B[i][j] > B[f][g]:\n",
    "                        inverselyOrdered = False\n",
    "                        badEntries.append([[i,j],[f,g]])\n",
    "    return [inverselyOrdered,badEntries]\n",
    "\n",
    "def checkParityEntries(A,Evens, Odds):\n",
    "    parityPreserved = True\n",
    "    badEntries = []\n",
    "    for i in range(0,A.nrows()):\n",
    "        for j in range(i+1,A.ncols()-1):\n",
    "            if A[i][j] % 2 == 0 and Evens[i][j] < Odds[i][j]:\n",
    "                parityPreserved = False\n",
    "                badEntries.append([i,j])\n",
    "            if A[i][j] % 2 == 1 and Odds[i][j] < Evens[i][j]:\n",
    "                parityPreserved = False\n",
    "                badEntries.append([i,j])\n",
    "    return [parityPreserved, badEntries]"
   ]
  },
  {
   "cell_type": "code",
   "execution_count": 5,
   "metadata": {},
   "outputs": [],
   "source": [
    "#DISTANCE ORDERING\n",
    "#Testing d(i,j) > d(f,g) iff e(i,j) < e(f,g) where i != j and f != g, where d is standard distance, and e(f,g) is the (f,g) entry of e^A.\n",
    "\n",
    "#Prints examples where this fails with the bad pairs of vertex pairs [[i,j], [f,g]].\n",
    "\n",
    "n = 6\n",
    "for T in graphs(n):  #graphs(n) for all graphs.  graphs.trees(n) for all trees.\n",
    "    if T.is_connected():\n",
    "        A = T.adjacency_matrix()\n",
    "        D = T.distance_matrix()\n",
    "        #print(A)\n",
    "        E = expMat(A).n(digits=5)\n",
    "        EEvens = expMatEvens(A).n(digits=5)\n",
    "        EOdds = expMatOdds(A).n(digits=5)\n",
    "        #parityInformation = checkParityEntries(D,EEvens,EOdds)\n",
    "        distanceOrderData = checkDistanceOrdering(D,E)\n",
    "        if distanceOrderData[0] == False:\n",
    "            show(T)\n",
    "            print(D)\n",
    "            print(E)\n",
    "            print(distanceOrderData[1])\n",
    "            print(\"\")"
   ]
  },
  {
   "cell_type": "code",
   "execution_count": 12,
   "metadata": {},
   "outputs": [],
   "source": [
    "#DISTANCE PARITY\n",
    "#Testing d(i,j) is even iff the contribution of the even terms of e^A for (i,j) is greater than the contribution of the odd terms.\n",
    "\n",
    "#Prints examples where this fails with bad vertex pairs [i,j].\n",
    "\n",
    "n = 6\n",
    "for T in graphs(n): #graphs(n) for all graphs.  graphs.trees(n) for all trees.\n",
    "    if T.is_connected():\n",
    "        A = T.adjacency_matrix()\n",
    "        D = T.distance_matrix()\n",
    "        E = expMat(A).n(digits=5)\n",
    "        EEvens = expMatEvens(A).n(digits=5)\n",
    "        EOdds = expMatOdds(A).n(digits=5)\n",
    "        parityInformation = checkParityEntries(D,EEvens,EOdds)\n",
    "        if parityInformation[0] == False:\n",
    "            show(T)\n",
    "            print(D)\n",
    "            print(EEvens)\n",
    "            print(EOdds)\n",
    "            print(parityInformation[1])"
   ]
  },
  {
   "cell_type": "code",
   "execution_count": null,
   "metadata": {},
   "outputs": [],
   "source": []
  }
 ],
 "metadata": {
  "kernelspec": {
   "display_name": "SageMath 9.3",
   "language": "sage",
   "name": "sagemath"
  },
  "language_info": {
   "codemirror_mode": {
    "name": "ipython",
    "version": 3
   },
   "file_extension": ".py",
   "mimetype": "text/x-python",
   "name": "python",
   "nbconvert_exporter": "python",
   "pygments_lexer": "ipython3",
   "version": "3.7.10"
  }
 },
 "nbformat": 4,
 "nbformat_minor": 4
}
